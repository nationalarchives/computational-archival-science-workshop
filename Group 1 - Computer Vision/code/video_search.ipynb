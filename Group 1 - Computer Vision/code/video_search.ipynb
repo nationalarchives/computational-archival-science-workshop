{
 "cells": [
  {
   "cell_type": "code",
   "execution_count": 1,
   "metadata": {},
   "outputs": [],
   "source": [
    "import sys, os\n",
    "import pandas as pd\n",
    "import numpy as np\n",
    "import shutil\n",
    "from zipfile import ZipFile\n",
    "from utils.helper import get_all_files, get_all_dirs, make_new_dir\n",
    "from utils.extractor import Extractor\n",
    "from PIL import Image\n",
    "from sklearn.neighbors import NearestNeighbors\n",
    "import matplotlib.pyplot as plt\n",
    "from utils.video_tools import FeatExtractor\n",
    "from datetime import timedelta"
   ]
  },
  {
   "cell_type": "code",
   "execution_count": 2,
   "metadata": {},
   "outputs": [],
   "source": [
    "def fix_path(my_dir):\n",
    "    \"\"\"replace white space with underscore '_' in files and directories under my_dir\n",
    "    Note: only files/dirs inside my_dir are checked. Parent directories above my_dir are ignored.\n",
    "    \"\"\"\n",
    "    sep = os.path.sep\n",
    "    dir_lst = get_all_dirs(my_dir, trim=1)\n",
    "    tree_depth = max([len(p.split(sep)) for p in dir_lst])\n",
    "    dcount = 0\n",
    "    for i in range(1):#tree_depth):  # repeat the path fixing process several times \n",
    "        dir_lst = get_all_dirs(my_dir, trim=1)[::-1]\n",
    "        for p in dir_lst:\n",
    "            leaf = p.split(sep)[-1]\n",
    "            parent = os.path.dirname(p)\n",
    "            new_leaf = leaf.replace(' ','_')\n",
    "            if new_leaf != leaf and os.path.exists(os.path.join(my_dir, p)):\n",
    "                print('Renaming \"%s\" to \"%s\"' % (p, os.path.join(parent, new_leaf)))\n",
    "                shutil.move(os.path.join(my_dir, p), os.path.join(my_dir, parent, new_leaf))\n",
    "                dcount += 1\n",
    "    file_lst = get_all_files(my_dir, trim=0)\n",
    "    fcount = 0\n",
    "    for f in file_lst:\n",
    "        leaf = f.split(sep)[-1]\n",
    "        parent = os.path.dirname(f)\n",
    "        new_leaf = leaf.replace(' ', '_')\n",
    "        if new_leaf != leaf:\n",
    "            print('Renaming \"%s\" to \"%s\"' % (f, os.path.join(parent, new_leaf)))\n",
    "            shutil.move(f, os.path.join(parent, new_leaf))\n",
    "            fcount += 1\n",
    "    print('Done. Rename %d dirs and %d files' % (dcount, fcount))"
   ]
  },
  {
   "cell_type": "code",
   "execution_count": 3,
   "metadata": {},
   "outputs": [],
   "source": [
    "DATA_ROOT = '/home/tb0035/projects/tna_datathon/data/LOC_Videos'\n",
    "OUT = '/home/tb0035/projects/tna_datathon/data/out'\n",
    "make_new_dir(OUT, False)"
   ]
  },
  {
   "cell_type": "code",
   "execution_count": null,
   "metadata": {},
   "outputs": [],
   "source": [
    "fix_path(DATA_ROOT)"
   ]
  },
  {
   "cell_type": "code",
   "execution_count": null,
   "metadata": {},
   "outputs": [],
   "source": [
    "accepted_img_formats = ['jpg', 'png', 'gif', 'bmp']\n",
    "accepted_vid_formats = ['mp4', 'avi', 'flv', 'mov', 'mkv', 'mpeg']\n",
    "loc_vid = get_all_files(DATA_ROOT, trim=1)\n",
    "loc_vid = [vid for vid in loc_vid if vid.split('.')[-1].lower() in accepted_vid_formats]\n",
    "loc_vid_tab = pd.DataFrame(columns=['path', 'type'])\n",
    "loc_vid_tab['path'] = loc_vid\n",
    "loc_vid_tab['type'] = ['video',] * len(loc_vid)\n",
    "loc_vid_tab.to_csv(os.path.join(DATA_ROOT, 'list.txt'), index=None)"
   ]
  },
  {
   "cell_type": "code",
   "execution_count": 4,
   "metadata": {},
   "outputs": [],
   "source": [
    "lst = pd.read_csv(os.path.join(DATA_ROOT, 'list.txt'))\n",
    "paths = lst['path'].to_list()\n",
    "paths = paths[:5]"
   ]
  },
  {
   "cell_type": "code",
   "execution_count": null,
   "metadata": {
    "scrolled": true
   },
   "outputs": [],
   "source": [
    "batchsize = 2\n",
    "min_frames = 3\n",
    "arch = 'ResNet50'\n",
    "stride_in_sec = 0.5\n",
    "extractor = FeatExtractor(batchsize = batchsize, min_frames = min_frames,\n",
    "                              arch = arch,\n",
    "                              verbose = False, stride_in_sec = stride_in_sec)"
   ]
  },
  {
   "cell_type": "code",
   "execution_count": 7,
   "metadata": {},
   "outputs": [
    {
     "name": "stdout",
     "output_type": "stream",
     "text": [
      "Processing Volunteering_message_JONATHAN_EDWARDS.mp4\n",
      "Processing Journey_-_Test_Event_montage.mp4\n",
      "Processing Pin_badges.mp4\n",
      "Processing Overall_Highlights_FINAL.mp4\n",
      "Processing The_Olympic_Torch_Relay_education_film.mp4\n"
     ]
    }
   ],
   "source": [
    "sep = os.path.sep\n",
    "feat_paths = []\n",
    "for path in paths:\n",
    "    print('Processing %s' % path)\n",
    "    name = path.split(sep)[-1].split('.')[0]\n",
    "    np_out = os.path.join(OUT, name + '.npy')\n",
    "    #extractor.extract(os.path.join(DATA_ROOT, path), np_out, False)\n",
    "    feat_paths.append(name + '.npy')\n",
    "    "
   ]
  },
  {
   "cell_type": "markdown",
   "metadata": {},
   "source": [
    "## search"
   ]
  },
  {
   "cell_type": "code",
   "execution_count": 5,
   "metadata": {},
   "outputs": [],
   "source": [
    "def dist2(q, data):\n",
    "    query = q + np.zeros((1, q.size), dtype=np.float32)\n",
    "    return np.sum((q-data)**2, axis=1)\n",
    "        "
   ]
  },
  {
   "cell_type": "code",
   "execution_count": 8,
   "metadata": {},
   "outputs": [],
   "source": [
    "feats = []\n",
    "for path in feat_paths:\n",
    "    feats.append(np.load(os.path.join(OUT, path)))"
   ]
  },
  {
   "cell_type": "code",
   "execution_count": 9,
   "metadata": {},
   "outputs": [
    {
     "name": "stdout",
     "output_type": "stream",
     "text": [
      "WARNING:tensorflow:From /home/tb0035/miniconda3/lib/python3.7/site-packages/tensorflow/python/ops/resource_variable_ops.py:435: colocate_with (from tensorflow.python.framework.ops) is deprecated and will be removed in a future version.\n",
      "Instructions for updating:\n",
      "Colocations handled automatically by placer.\n"
     ]
    },
    {
     "name": "stderr",
     "output_type": "stream",
     "text": [
      "/home/tb0035/miniconda3/lib/python3.7/site-packages/keras_applications/resnet50.py:265: UserWarning: The output shape of `ResNet50(include_top=False)` has been changed since Keras 2.2.0.\n",
      "  warnings.warn('The output shape of `ResNet50(include_top=False)` '\n"
     ]
    }
   ],
   "source": [
    "hasher = Extractor()"
   ]
  },
  {
   "cell_type": "code",
   "execution_count": 22,
   "metadata": {},
   "outputs": [],
   "source": [
    "test_im_path = '/home/tb0035/projects/tna_datathon/data/test/jonathan.png'\n",
    "test_feat = hasher.extract_from_path(test_im_path)"
   ]
  },
  {
   "cell_type": "code",
   "execution_count": 23,
   "metadata": {},
   "outputs": [],
   "source": [
    "Nframe = 5\n",
    "res = {'ids': [], 'dist': []}\n",
    "for i, vid_feat in enumerate(feats):\n",
    "    d = dist2(test_feat, vid_feat)\n",
    "    simid = np.argsort(d)[:Nframe]\n",
    "    res['ids'].append(simid)\n",
    "    res['dist'].append(d[simid].mean())\n",
    "res['dist'] = np.array(res['dist'])"
   ]
  },
  {
   "cell_type": "code",
   "execution_count": 24,
   "metadata": {},
   "outputs": [
    {
     "name": "stdout",
     "output_type": "stream",
     "text": [
      "Volunteering_message_JONATHAN_EDWARDS.mp4: 200.743835. Position around: 0:00:19\n",
      "Journey_-_Test_Event_montage.mp4: 1084.150635. Position around: 0:01:11\n",
      "Pin_badges.mp4: 1174.289429. Position around: 0:01:44\n"
     ]
    }
   ],
   "source": [
    "K = 3\n",
    "vidid = np.argsort(res['dist'])[:K]\n",
    "viddist = res['dist'][vidid]\n",
    "\n",
    "selpaths = [paths[i] for i in vidid]\n",
    "for i in range(len(selpaths)):\n",
    "    time_pos = np.sort(res['ids'][i])[int(Nframe/2)]\n",
    "    time_step = int(time_pos/2)\n",
    "    time_step = timedelta(seconds=time_step)\n",
    "    print('%s: %f. Position around: %s' % (selpaths[i], viddist[i], time_step))\n",
    "    "
   ]
  }
 ],
 "metadata": {
  "kernelspec": {
   "display_name": "Python 3",
   "language": "python",
   "name": "python3"
  },
  "language_info": {
   "codemirror_mode": {
    "name": "ipython",
    "version": 3
   },
   "file_extension": ".py",
   "mimetype": "text/x-python",
   "name": "python",
   "nbconvert_exporter": "python",
   "pygments_lexer": "ipython3",
   "version": "3.7.3"
  }
 },
 "nbformat": 4,
 "nbformat_minor": 2
}
