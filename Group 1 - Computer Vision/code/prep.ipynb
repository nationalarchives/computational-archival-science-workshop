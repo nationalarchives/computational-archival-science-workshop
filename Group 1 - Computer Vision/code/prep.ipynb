{
 "cells": [
  {
   "cell_type": "markdown",
   "metadata": {},
   "source": [
    "## Essential imports and path settings"
   ]
  },
  {
   "cell_type": "code",
   "execution_count": null,
   "metadata": {},
   "outputs": [],
   "source": [
    "import sys, os\n",
    "import pandas as pd\n",
    "import numpy as np\n",
    "import shutil\n",
    "from zipfile import ZipFile\n",
    "from utils.helper import get_all_files, get_all_dirs, make_new_dir\n",
    "from utils.extractor import Extractor\n",
    "from PIL import Image\n",
    "from sklearn.neighbors import NearestNeighbors\n",
    "import matplotlib.pyplot as plt"
   ]
  },
  {
   "cell_type": "code",
   "execution_count": null,
   "metadata": {},
   "outputs": [],
   "source": [
    "DATA_ROOT = '/home/tb0035/projects/tna_datathon/data'"
   ]
  },
  {
   "cell_type": "code",
   "execution_count": null,
   "metadata": {},
   "outputs": [],
   "source": [
    "def visualise(lst_imgs, target_shape=(200,200)):\n",
    "    \"\"\"visualise lst of images\"\"\"\n",
    "    out = []\n",
    "    for p in lst_imgs:\n",
    "        im = Image.open(p).resize(target_shape, Image.BILINEAR)\n",
    "        im = np.array(im)\n",
    "        if im.shape[-1] > 3:\n",
    "            im = im[:,:,:3]\n",
    "#         print(im.shape)\n",
    "        out.append(im)\n",
    "    out = np.concatenate(out, axis=1)\n",
    "    return out"
   ]
  },
  {
   "cell_type": "markdown",
   "metadata": {},
   "source": [
    "## Find and replace white space with underscore"
   ]
  },
  {
   "cell_type": "code",
   "execution_count": null,
   "metadata": {},
   "outputs": [],
   "source": [
    "def fix_path(my_dir):\n",
    "    \"\"\"replace white space with underscore '_' in files and directories under my_dir\n",
    "    Note: only files/dirs inside my_dir are checked. Parent directories above my_dir are ignored.\n",
    "    \"\"\"\n",
    "    sep = os.path.sep\n",
    "    dir_lst = get_all_dirs(my_dir, trim=1)\n",
    "    tree_depth = max([len(p.split(sep)) for p in dir_lst])\n",
    "    dcount = 0\n",
    "    for i in range(1):#tree_depth):  # repeat the path fixing process several times \n",
    "        dir_lst = get_all_dirs(my_dir, trim=1)[::-1]\n",
    "        for p in dir_lst:\n",
    "            leaf = p.split(sep)[-1]\n",
    "            parent = os.path.dirname(p)\n",
    "            new_leaf = leaf.replace(' ','_')\n",
    "            if new_leaf != leaf and os.path.exists(os.path.join(my_dir, p)):\n",
    "                print('Renaming \"%s\" to \"%s\"' % (p, os.path.join(parent, new_leaf)))\n",
    "                shutil.move(os.path.join(my_dir, p), os.path.join(my_dir, parent, new_leaf))\n",
    "                dcount += 1\n",
    "    file_lst = get_all_files(my_dir, trim=0)\n",
    "    fcount = 0\n",
    "    for f in file_lst:\n",
    "        leaf = f.split(sep)[-1]\n",
    "        parent = os.path.dirname(f)\n",
    "        new_leaf = leaf.replace(' ', '_')\n",
    "        if new_leaf != leaf:\n",
    "            print('Renaming \"%s\" to \"%s\"' % (f, os.path.join(parent, new_leaf)))\n",
    "            shutil.move(f, os.path.join(parent, new_leaf))\n",
    "            fcount += 1\n",
    "    print('Done. Rename %d dirs and %d files' % (dcount, fcount))"
   ]
  },
  {
   "cell_type": "code",
   "execution_count": null,
   "metadata": {},
   "outputs": [],
   "source": [
    "fix_path(DATA_ROOT)\n"
   ]
  },
  {
   "cell_type": "markdown",
   "metadata": {},
   "source": [
    "## Extract zip files"
   ]
  },
  {
   "cell_type": "code",
   "execution_count": null,
   "metadata": {},
   "outputs": [],
   "source": [
    "def zip_extract(in_dir, out_dir=None):\n",
    "    \"\"\"find .zip files in in_dir and extract to out_dir\n",
    "    if out_dir=None, extract to in_dir\n",
    "    \"\"\"\n",
    "    out = in_dir if out_dir is None else out_dir\n",
    "    lst = get_all_files(in_dir, trim=1, extension='zip')\n",
    "    for path in lst:\n",
    "        print('Extracting %s' % path)\n",
    "        parent = os.path.dirname(path)\n",
    "        out_path = os.path.join(out, parent)\n",
    "        make_new_dir(out_path, False)\n",
    "        with ZipFile(os.path.join(in_dir, path), 'r') as zip_ref:\n",
    "            zip_ref.extractall(out_path)\n",
    "        "
   ]
  },
  {
   "cell_type": "code",
   "execution_count": null,
   "metadata": {},
   "outputs": [],
   "source": [
    "BT_IMG = os.path.join(DATA_ROOT, 'BT_images')\n",
    "zip_extract(BT_IMG)"
   ]
  },
  {
   "cell_type": "markdown",
   "metadata": {},
   "source": [
    "## Get list of files"
   ]
  },
  {
   "cell_type": "code",
   "execution_count": null,
   "metadata": {},
   "outputs": [],
   "source": [
    "UKSC_VID = os.path.join(DATA_ROOT, 'UKSC_Videos/10_minutes_cuts')\n",
    "LOC_VID = os.path.join(DATA_ROOT, 'LOC_Videos')\n",
    "LOC_IMG = os.path.join(DATA_ROOT, 'LOC_images/LOC_SAMPLE_IMGS')\n",
    "BT_IMG = os.path.join(DATA_ROOT, 'BT_images')"
   ]
  },
  {
   "cell_type": "code",
   "execution_count": null,
   "metadata": {},
   "outputs": [],
   "source": [
    "accepted_img_formats = ['jpg', 'png', 'gif', 'bmp']\n",
    "accepted_vid_formats = ['mp4', 'avi', 'flv', 'mov', 'mkv', 'mpeg']\n",
    "\n",
    "# uksc_vid = get_all_files(UKSC_VID, trim=1)\n",
    "# uksc_vid = [vid for vid in uksc_vid if vid.split('.')[-1].lower() in accepted_vid_formats]\n",
    "# uksc_vid_tab = pd.DataFrame(columns=['path', 'type'])\n",
    "# uksc_vid_tab['path'] = uksc_vid\n",
    "# uksc_vid_tab['type'] = ['video',] * len(uksc_vid)\n",
    "# uksc_vid_tab.to_csv(os.path.join(UKSC_VID, 'list.txt'), index=None)\n",
    "\n",
    "# loc_vid = get_all_files(LOC_VID, trim=1)\n",
    "# loc_vid = [vid for vid in loc_vid if vid.split('.')[-1].lower() in accepted_vid_formats]\n",
    "# loc_vid_tab = pd.DataFrame(columns=['path', 'type'])\n",
    "# loc_vid_tab['path'] = loc_vid\n",
    "# loc_vid_tab['type'] = ['video',] * len(loc_vid)\n",
    "# loc_vid_tab.to_csv(os.path.join(LOC_VID, 'list.txt'), index=None)\n",
    "\n",
    "# uksc_vid = get_all_files(LOC_IMG, trim=1)\n",
    "# uksc_vid = [vid for vid in uksc_vid if vid.split('.')[-1].lower() in accepted_img_formats]\n",
    "# uksc_vid_tab = pd.DataFrame(columns=['path', 'type'])\n",
    "# uksc_vid_tab['path'] = uksc_vid\n",
    "# uksc_vid_tab['type'] = ['image',] * len(uksc_vid)\n",
    "# uksc_vid_tab.to_csv(os.path.join(LOC_IMG, 'list.txt'), index=None)\n",
    "\n",
    "uksc_vid = get_all_files(BT_IMG, trim=1)\n",
    "uksc_vid = [vid for vid in uksc_vid if vid.split('.')[-1].lower() in accepted_img_formats]\n",
    "uksc_vid_tab = pd.DataFrame(columns=['path', 'type'])\n",
    "uksc_vid_tab['path'] = uksc_vid\n",
    "uksc_vid_tab['type'] = ['image',] * len(uksc_vid)\n",
    "uksc_vid_tab.to_csv(os.path.join(BT_IMG, 'list.txt'), index=None)"
   ]
  },
  {
   "cell_type": "markdown",
   "metadata": {},
   "source": [
    "## extract features"
   ]
  },
  {
   "cell_type": "code",
   "execution_count": null,
   "metadata": {},
   "outputs": [],
   "source": [
    "DATA_DIR = LOC_IMG\n",
    "IMG_LST = os.path.join(LOC_IMG, 'list.txt')\n",
    "OUT = os.path.join(DATA_ROOT, 'loc_img.npz')\n",
    "\n",
    "lst = pd.read_csv(IMG_LST)\n",
    "paths1 = [os.path.join(DATA_DIR, p) for p in lst['path'].to_list()]\n",
    "\n",
    "DATA_DIR = BT_IMG\n",
    "IMG_LST = os.path.join(BT_IMG, 'list.txt')\n",
    "\n",
    "lst = pd.read_csv(IMG_LST)\n",
    "paths2 = [os.path.join(DATA_DIR, p) for p in lst['path'].to_list()]\n",
    "\n",
    "paths = paths1 + paths2"
   ]
  },
  {
   "cell_type": "code",
   "execution_count": null,
   "metadata": {},
   "outputs": [],
   "source": [
    "paths"
   ]
  },
  {
   "cell_type": "code",
   "execution_count": null,
   "metadata": {},
   "outputs": [],
   "source": [
    "hasher = Extractor()\n",
    "feats = []\n",
    "exclude_lst = []\n",
    "for i, path in enumerate(paths):\n",
    "    print('processing %d/%d: %s' % (i, len(paths), path))\n",
    "    try:\n",
    "        feat = hasher.extract_from_path(path)\n",
    "    except Exception as e:\n",
    "        print('Error processing %s' % path)\n",
    "        exclude_lst.append(i)\n",
    "        continue\n",
    "    feats.append(feat)\n"
   ]
  },
  {
   "cell_type": "code",
   "execution_count": null,
   "metadata": {},
   "outputs": [],
   "source": [
    "feats = np.array(feats)\n",
    "print(feats.shape)"
   ]
  },
  {
   "cell_type": "code",
   "execution_count": null,
   "metadata": {},
   "outputs": [],
   "source": [
    "sel_lst = [i for i in range(len(paths)) if i not in exclude_lst]\n",
    "paths0 = paths\n",
    "paths = [paths[i] for i in sel_lst]\n",
    "np.savez(OUT, feats=feats)\n",
    "np.save('sel_lst.npy', np.array(sel_lst))"
   ]
  },
  {
   "cell_type": "markdown",
   "metadata": {},
   "source": [
    "## search"
   ]
  },
  {
   "cell_type": "code",
   "execution_count": null,
   "metadata": {},
   "outputs": [],
   "source": [
    "print(len(paths), len(feats))"
   ]
  },
  {
   "cell_type": "code",
   "execution_count": null,
   "metadata": {},
   "outputs": [],
   "source": [
    "# paths = pd.read_csv(IMG_LST)['path'].to_list()\n",
    "# feats = np.load(OUT)['feats']\n",
    "nbrs = NearestNeighbors(n_neighbors=5, algorithm='ball_tree').fit(feats)"
   ]
  },
  {
   "cell_type": "code",
   "execution_count": null,
   "metadata": {},
   "outputs": [],
   "source": [
    "# test_im_path = '/home/tb0035/projects/tna_datathon/data/test/Flag_bearers02.jpg'\n",
    "test_im_path = '/home/tb0035/projects/tna_datathon/data/test/field.png'\n",
    "im = hasher.extract_from_path(test_im_path)\n",
    "dist, inds = nbrs.kneighbors(im[None,...])\n",
    "selected_paths = [os.path.join(DATA_DIR, paths[i]) for i in inds.squeeze()]\n",
    "selected_paths.insert(0, test_im_path)"
   ]
  },
  {
   "cell_type": "code",
   "execution_count": null,
   "metadata": {},
   "outputs": [],
   "source": [
    "# Visualise results\n",
    "canvas = visualise(selected_paths, (200,200))\n",
    "print('Results: %s' % selected_paths)\n",
    "print('Distance: %s' % dist.squeeze())\n",
    "Image.fromarray(canvas).show()"
   ]
  },
  {
   "cell_type": "code",
   "execution_count": null,
   "metadata": {},
   "outputs": [],
   "source": [
    "im = Image.open(test_im_path)"
   ]
  },
  {
   "cell_type": "code",
   "execution_count": null,
   "metadata": {},
   "outputs": [],
   "source": [
    "print(np.array(im).shape)"
   ]
  },
  {
   "cell_type": "code",
   "execution_count": null,
   "metadata": {},
   "outputs": [],
   "source": []
  }
 ],
 "metadata": {
  "kernelspec": {
   "display_name": "Python 3",
   "language": "python",
   "name": "python3"
  },
  "language_info": {
   "codemirror_mode": {
    "name": "ipython",
    "version": 3
   },
   "file_extension": ".py",
   "mimetype": "text/x-python",
   "name": "python",
   "nbconvert_exporter": "python",
   "pygments_lexer": "ipython3",
   "version": "3.7.3"
  }
 },
 "nbformat": 4,
 "nbformat_minor": 2
}
