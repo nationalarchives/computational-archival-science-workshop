{
 "cells": [
  {
   "cell_type": "code",
   "execution_count": 138,
   "metadata": {},
   "outputs": [],
   "source": [
    "# imports\n",
    "\n",
    "import os, codecs\n",
    "from collections import defaultdict"
   ]
  },
  {
   "cell_type": "code",
   "execution_count": 272,
   "metadata": {},
   "outputs": [],
   "source": [
    "# configs\n",
    "\n",
    "root_folder = \"ToS3\"\n",
    "level = \"l2\"\n",
    "year = \"2009\""
   ]
  },
  {
   "cell_type": "code",
   "execution_count": 273,
   "metadata": {},
   "outputs": [
    {
     "name": "stdout",
     "output_type": "stream",
     "text": [
      "l2_summary_2009_10.txt\n",
      "l2_pages_2009_7.txt\n",
      "l2_pages_2009_10.txt\n",
      "l2_pages_2009_11.txt\n",
      "l2_pages_2009_6.txt\n",
      "l2_summary_2009_11.txt\n",
      "l2_summary_2009_13.txt\n",
      "l2_pages_2009_4.txt\n",
      "l2_pages_2009_13.txt\n",
      "l2_pages_2009_12.txt\n",
      "l2_pages_2009_5.txt\n",
      "l2_summary_2009_12.txt\n",
      "l2_pages_2009_1.txt\n",
      "l2_pages_2009_16.txt\n",
      "l2_pages_2009_17.txt\n",
      "l2_pages_2009_0.txt\n",
      "l2_pages_2009_2.txt\n",
      "l2_pages_2009_15.txt\n",
      "l2_pages_2009_14.txt\n",
      "l2_pages_2009_3.txt\n",
      "l2_summary_2009_8.txt\n",
      "l2_summary_2009_9.txt\n",
      "l2_summary_2009_4.txt\n",
      "l2_summary_2009_5.txt\n",
      "l2_summary_2009_7.txt\n",
      "l2_summary_2009_6.txt\n",
      "l2_summary_2009_2.txt\n",
      "l2_summary_2009_3.txt\n",
      "l2_summary_2009_1.txt\n",
      "l2_summary_2009_0.txt\n",
      "l2_pages_2009_19.txt\n",
      "l2_pages_2009_18.txt\n",
      "l2_pages_2009_8.txt\n",
      "l2_pages_2009_9.txt\n"
     ]
    }
   ],
   "source": [
    "# parse and cleanup\n",
    "\n",
    "edge_list = defaultdict(int)\n",
    "all_gov = list()\n",
    "all_targets = list()\n",
    "\n",
    "for root, dirs, files in os.walk(root_folder):\n",
    "    for f in files:\n",
    "        if \".txt\" in f and level in f and year in f:\n",
    "            print(f)\n",
    "            with codecs.open(os.path.join(root,f),encoding=\"utf8\") as rf:\n",
    "                for line in rf.readlines():\n",
    "                    # remove webarchive info\n",
    "                    line = line.replace(\"https://webarchive.nationalarchives.gov.uk/\",\"\")\n",
    "                    # split the line into source, target and level\n",
    "                    unpack = line.split(\"|\")\n",
    "                    if len(unpack) == 3:\n",
    "                        source,target,_ = unpack\n",
    "                    else:\n",
    "                        continue\n",
    "                    target_host = target.find(\"http\")\n",
    "                    source_host = source.find(\"http\")\n",
    "                    \n",
    "                    if target_host and source_host:\n",
    "                        # cleanup target host\n",
    "                        target_host = target[target_host:]\n",
    "                        target_host = target_host[target_host.find(\"://\")+3:]\n",
    "                        trailing_end = target_host.find(\"/\")\n",
    "                        if trailing_end > -1:\n",
    "                            target_host = target_host[:trailing_end]\n",
    "                        # remove www.\n",
    "                        target_host = target_host.replace(\"www.\",\"\")\n",
    "                        target_host = target_host.replace(\"www2.\",\"\")\n",
    "                        # cleanup source host\n",
    "                        source_host = source[source_host:]\n",
    "                        source_host = source_host[source_host.find(\"://\")+3:]\n",
    "                        trailing_end = source_host.find(\"/\")\n",
    "                        if trailing_end > -1:\n",
    "                            source_host = source_host[:trailing_end]\n",
    "                        # remove www.\n",
    "                        source_host = source_host.replace(\"www.\",\"\")\n",
    "                        source_host = source_host.replace(\"www2.\",\"\")\n",
    "                        if len(source_host) > 0 and len(target_host) > 0:\n",
    "                            # remove IP addresses\n",
    "                            if source_host.split(\".\")[0].isdigit() or target_host.split(\".\")[0].isdigit():\n",
    "                                continue\n",
    "                            all_gov.append(source_host)\n",
    "                            all_targets.append(target_host)\n",
    "                            edge_list[source_host+\"$\"+target_host] += 1"
   ]
  },
  {
   "cell_type": "code",
   "execution_count": 274,
   "metadata": {},
   "outputs": [],
   "source": [
    "# create the target is_goc classification\n",
    "all_gov = list(set(all_gov))"
   ]
  },
  {
   "cell_type": "code",
   "execution_count": 275,
   "metadata": {},
   "outputs": [
    {
     "data": {
      "text/plain": [
       "1693"
      ]
     },
     "execution_count": 275,
     "metadata": {},
     "output_type": "execute_result"
    }
   ],
   "source": [
    "len(all_gov)"
   ]
  },
  {
   "cell_type": "code",
   "execution_count": 276,
   "metadata": {},
   "outputs": [
    {
     "data": {
      "text/plain": [
       "['agender.org.uk$agender.org.uk',\n",
       " 'agender.org.uk$pfc.org.uk',\n",
       " 'agender.org.uk$gendertrust.org.uk',\n",
       " 'agender.org.uk$gires.org.uk',\n",
       " 'agender.org.uk$womenandequalityunit.gov.uk',\n",
       " 'agender.org.uk$civilservice.gov.uk',\n",
       " 'agender.org.uk$eoc.org.uk',\n",
       " 'agender.org.uk$uk.geocities.com',\n",
       " 'agender.org.uk$csbf.org.uk',\n",
       " 'agender.org.uk$opsi.gov.uk']"
      ]
     },
     "execution_count": 276,
     "metadata": {},
     "output_type": "execute_result"
    }
   ],
   "source": [
    "[x for x in edge_list.keys()][:10]"
   ]
  },
  {
   "cell_type": "code",
   "execution_count": 277,
   "metadata": {},
   "outputs": [],
   "source": [
    "# create the directed network in a csv file\n",
    "\n",
    "list_of_cited = defaultdict(list)\n",
    "list_of_citing = defaultdict(list)\n",
    "with codecs.open(\"directed_edgelist_%s_%s.csv\"%(year,level), \"w\", \"utf8\") as wf:\n",
    "    wf.write(\"Source,Target,Weight,Target_is_gov\\n\")\n",
    "    for k,v in edge_list.items():\n",
    "        try:\n",
    "            source,target = k.split(\"$\")\n",
    "        except:\n",
    "            print(k)\n",
    "            continue\n",
    "        is_gov = False\n",
    "        if target in all_gov:\n",
    "            is_gov = True\n",
    "        list_of_cited[source].append(target)\n",
    "        list_of_citing[target].append(source)\n",
    "        wf.write(source+\",\"+target+\",\"+str(v)+\",\"+str(is_gov)+\"\\n\")"
   ]
  },
  {
   "cell_type": "code",
   "execution_count": 278,
   "metadata": {},
   "outputs": [],
   "source": [
    "# Link coupling (naive)\n",
    "\n",
    "edge_list_coupling = defaultdict(int)\n",
    "loc = [x for x in list_of_cited.keys()]\n",
    "for n,s1 in enumerate(loc):\n",
    "    for s2 in loc[n+1:]:\n",
    "        weight = len(set(list_of_cited[s1]).intersection(set(list_of_cited[s2])))\n",
    "        if weight > 0:\n",
    "            edge_list_coupling[s1+\"$\"+s2] = weight "
   ]
  },
  {
   "cell_type": "code",
   "execution_count": 279,
   "metadata": {},
   "outputs": [
    {
     "data": {
      "text/plain": [
       "1693"
      ]
     },
     "execution_count": 279,
     "metadata": {},
     "output_type": "execute_result"
    }
   ],
   "source": [
    "len(loc)"
   ]
  },
  {
   "cell_type": "code",
   "execution_count": 280,
   "metadata": {},
   "outputs": [],
   "source": [
    "with codecs.open(\"coupling_edgelist_%s_%s.csv\"%(year,level), \"w\", \"utf8\") as wf:\n",
    "    wf.write(\"Source,Target,Type,Weight\\n\")\n",
    "    for k,v in edge_list_coupling.items():\n",
    "        try:\n",
    "            source,target = k.split(\"$\")\n",
    "        except:\n",
    "            print(k)\n",
    "            continue\n",
    "        wf.write(source+\",\"+target+\",Undirected,\"+str(v)+\"\\n\")"
   ]
  },
  {
   "cell_type": "code",
   "execution_count": 281,
   "metadata": {},
   "outputs": [],
   "source": [
    "# Co-linking (naive)\n",
    "\n",
    "edge_list_col = defaultdict(int)\n",
    "loc = [x for x in list_of_citing.keys()]\n",
    "for n,s1 in enumerate(loc):\n",
    "    for s2 in loc[n+1:]:\n",
    "        weight = len(set(list_of_citing[s1]).intersection(set(list_of_citing[s2])))\n",
    "        if weight > 0:\n",
    "            edge_list_col[s1+\"$\"+s2] = weight "
   ]
  },
  {
   "cell_type": "code",
   "execution_count": 282,
   "metadata": {},
   "outputs": [
    {
     "data": {
      "text/plain": [
       "16520"
      ]
     },
     "execution_count": 282,
     "metadata": {},
     "output_type": "execute_result"
    }
   ],
   "source": [
    "len(loc)"
   ]
  },
  {
   "cell_type": "code",
   "execution_count": 283,
   "metadata": {},
   "outputs": [],
   "source": [
    "with codecs.open(\"colink_edgelist_%s_%s.csv\"%(year,level), \"w\", \"utf8\") as wf:\n",
    "    wf.write(\"Source,Target,Type,Weight\\n\")\n",
    "    for k,v in edge_list_col.items():\n",
    "        try:\n",
    "            source,target = k.split(\"$\")\n",
    "        except:\n",
    "            print(k)\n",
    "            continue\n",
    "        wf.write(source+\",\"+target+\",Undirected,\"+str(v)+\"\\n\")"
   ]
  },
  {
   "cell_type": "code",
   "execution_count": null,
   "metadata": {},
   "outputs": [],
   "source": []
  },
  {
   "cell_type": "code",
   "execution_count": null,
   "metadata": {},
   "outputs": [],
   "source": []
  }
 ],
 "metadata": {
  "kernelspec": {
   "display_name": "Python 3",
   "language": "python",
   "name": "python3"
  },
  "language_info": {
   "codemirror_mode": {
    "name": "ipython",
    "version": 3
   },
   "file_extension": ".py",
   "mimetype": "text/x-python",
   "name": "python",
   "nbconvert_exporter": "python",
   "pygments_lexer": "ipython3",
   "version": "3.7.3"
  }
 },
 "nbformat": 4,
 "nbformat_minor": 2
}
